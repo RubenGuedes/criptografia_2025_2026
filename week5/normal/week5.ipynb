{
 "cells": [
  {
   "cell_type": "markdown",
   "id": "68e78265-ffe8-4b07-9fb8-5914b897155e",
   "metadata": {},
   "source": [
    "# Exercise 1\n",
    "- ### stuff here"
   ]
  },
  {
   "cell_type": "markdown",
   "id": "80421ff9-c2cd-4989-9b19-e10c7de36d3e",
   "metadata": {},
   "source": [
    "# Exercise 2\n",
    "\n",
    "- ### 2.1: Can you retrieve the passwords?\n",
    "Yes - the provided `crack_hash.py` successfully recovers the original passwords for both the unsalted and the 1-byte shared-salt scenarios:\n",
    "- Unsalted: precompute the 20 SHA-256 hashes of `hex_passwds` and map them to the shuffled list (`mixed_hlist`) to recover the passwords.\n",
    "- Shared 1-byte salt: brute-force the 256 possible salt values; for each candidate salt compute the 20 hashes and compare against `mixed_shlist`. Once the salt is found, reconstruct the original salted password values in the shuffled order.\n",
    "```python\n",
    "# --------------------------- START OF EXERCISE 1 ---------------------------\n",
    "\n",
    "# build a map from hash -> original hex-encoded password bytes\n",
    "hash_to_pwd = {}\n",
    "for pwd in hex_passwds:\n",
    "\tdigest = hashes.Hash(hashes.SHA256())\n",
    "\tdigest.update(pwd)\n",
    "\tphash = hexlify(digest.finalize())\n",
    "\thash_to_pwd[phash] = pwd\n",
    "\n",
    "# reconstruct in the shuffled order\n",
    "for hash in mixed_hlist:\n",
    "\tcracked_pwds.append(hash_to_pwd[hash])\n",
    "\n",
    "# --------------------------- END OF EXERCISE 1 ---------------------------\n",
    "\n",
    "# ------------------------------- START OF EXERCISE 2 -------------------------------\n",
    "\n",
    "# brute force the 1-byte salt\n",
    "target_set = set(mixed_shlist.tolist() if hasattr(mixed_shlist, 'tolist') else mixed_shlist)\n",
    "salt_found = None\n",
    "hash_to_salted_pwd = None\n",
    "\n",
    "for s in range(256):\n",
    "\tcandidate_salt = bytes([s])\n",
    "\tlocal_map = {}\n",
    "\tlocal_hashes = []\n",
    "\tfor pwd in hex_passwds:\n",
    "\t\t_digest = hashes.Hash(hashes.SHA256())\n",
    "\t\t_digest.update(candidate_salt + pwd)\n",
    "\t\th = hexlify(_digest.finalize())\n",
    "\t\tlocal_hashes.append(h)\n",
    "\t\tlocal_map[h] = candidate_salt + pwd\n",
    "\t\n",
    "\t# compare\n",
    "\tif set(local_hashes) == target_set:\n",
    "\t\tsalt_found = candidate_salt\n",
    "\t\thash_to_salted_pwd = local_map\n",
    "\t\tbreak\n",
    "\n",
    "# if salt found, reconstruct in shuffled order\n",
    "if hash_to_salted_pwd is not None:\n",
    "\tfor h in mixed_shlist:\n",
    "\t\tcracked_spwds.append(hash_to_salted_pwd[h])\n",
    "\n",
    "# ------------------------------- END OF EXERCISE 2 -------------------------------\n",
    "```\n",
    "- ### 2.2: How long would the following attacks take?\n",
    "\n",
    "- **No salt**: trivial - precompute the small set of candidate hashes once and match; **O(N)** work. `20` hashes.  \n",
    "- **Tiny salt (1 byte)**: still trivial - only 256× increase; **O(256 × N) ≈ O(N)** = tiny and easily brute-forcible. `256 × 20 = 5,120` hashes.  \n",
    "- **Large salt (8 bytes, same for all)**: brute-forcing the salt space (2^64) is computationally unfeasible. If the **same 8-byte salt** is used across all hashes, an attacker must perform **O(2^k × N)** work (where *k = 64* bits of salt) once to recover all passwords - still impractical. `2^64 × 20 ≈ 3.689×10^20` hashes.  \n",
    "- **Large salt (8 bytes, unique per hash)**: the attacker must repeat that enormous search per target, multiplying the cost by the number of hashes (here 20), making it even more impractical. **O(N × 2^k × N) = O(N² × 2^k)**. `20 × (2^64 × 20) = 400 × 2^64 ≈ 7.379×10^22` hashes.\n"
   ]
  },
  {
   "cell_type": "markdown",
   "id": "baed3fe8",
   "metadata": {},
   "source": [
    "# Exercise 3\n",
    "\n",
    "- ### Stuff here"
   ]
  },
  {
   "cell_type": "markdown",
   "id": "4f5f1a79",
   "metadata": {},
   "source": [
    "# Exercise 4\n",
    "\n",
    "- ### Stuff here"
   ]
  },
  {
   "cell_type": "markdown",
   "id": "fe1619f3",
   "metadata": {},
   "source": [
    "# Exercise 5\n",
    "\n",
    "- ### Stuff here"
   ]
  }
 ],
 "metadata": {
  "kernelspec": {
   "display_name": "SageMath 10.4",
   "language": "sage",
   "name": "sagemath"
  },
  "language_info": {
   "codemirror_mode": {
    "name": "ipython",
    "version": 3
   },
   "file_extension": ".py",
   "mimetype": "text/x-python",
   "name": "python",
   "nbconvert_exporter": "python",
   "pygments_lexer": "ipython3",
   "version": "3.12.3"
  }
 },
 "nbformat": 4,
 "nbformat_minor": 5
}
