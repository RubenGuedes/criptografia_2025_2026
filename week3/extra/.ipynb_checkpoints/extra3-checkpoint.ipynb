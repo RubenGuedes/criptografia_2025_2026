{
 "cells": [
  {
   "cell_type": "markdown",
   "id": "441cf985-dab8-4597-bbab-a5b0fc70b0c6",
   "metadata": {
    "jp-MarkdownHeadingCollapsed": true
   },
   "source": [
    "### Q1. Weak Security\n",
    "#### Question P1.\n",
    "Resolvido no ficheiro q1.py\n",
    "\n",
    "#### Question P2.\n",
    "Supondo:\n",
    "- Que o processador tem uma frequência de 2.21 Ghz. O que equivale a 2,21 bilhoẽs de instruções por segundo.\n",
    "    - Logo, podemos aproximar este valor de $\\frac{2^{32}}{2} \\approx$ 2,21 bilhões\n",
    "- 3 horas = 10800 segundos = $2^{4}*3^{2}*5$ segundos\n",
    "\n",
    "Com isto, podemos deduzir que, o número de instruções máximo que o computador vai executar num espaço de 3 horas é:\n",
    "$$\n",
    "NúmeroInstruções \\approx \\frac{2^{32}}{2} * 2^{4}*3^{2}*5 \n",
    "$$\n",
    "$$\n",
    "NúmeroInstruções \\approx 2^{35}*3^{2}*5\n",
    "$$\n",
    "$$\n",
    "NúmeroInstruções \\approx 2^{35}*45\n",
    "$$\n",
    "Sendo que $2^{5} \\leq 45 \\leq 2^{6}$, para facilitar os calculos, vamos aproximar o valor de 45 para $2^{6}$. Logo:\n",
    "$$\n",
    "NúmeroInstruções \\approx 2^{35}*2^{6} \\approx 2^{41}\n",
    "$$\n",
    "No pior dos casos, terá que executar aproximadamente $2^{41}$ instruções, ou seja, a chave terá que ser superior a 41 bits. Sendo que:\n",
    "$$\n",
    "2^{5} \\leq 41 \\leq 2^{6}\n",
    "$$\n",
    "Então o offset tem que ser de 6 bytes para que o atacante demore aproximadamente 3 horas até descobrir a chave."
   ]
  },
  {
   "cell_type": "markdown",
   "id": "72b8e282-6c1b-4361-a6cc-3a76a55ea877",
   "metadata": {},
   "source": [
    "### Q2. Fixed Initialization Vectors\n",
    "Uma vez que o vetor de inicialização está fixo, podemos tentar fazer um ataque de brute-force de modo a tentar adivinhar a chave.\n",
    "Para este caso, temos um adversário que vai escolher 2 mensagens com o mesmo tamanho, e vai fornecê-las ao challenger.\n",
    "O challenger gera uma chave, para cifrar o conteúdo e um bit que indica a mensagem que escolheu.  \n",
    "De seguida, o challenger, encripta uma das mensagens, e fornece o ciphertext juntamente com o vetor de inicialização ao adversário.\n",
    "\n",
    "Visto que o vetor de inicialização é fixo e a chave é sempre a mesma $k$, como sabemos as duas mensagens e temos apenas um ciphertext, a forma de decidir qual foi a mensagem escolhida é fazendo um ataque de brute-force para descobrir a chave usada. Descobrindo a chave, também se descobre o plaintext que o challenger selecionou no inicio do desafio.\n",
    "\n",
    "Tal ataque é possivel pois o vetor de inicialização, IV, é sempre o mesmo. É este vetor que tem como objetivo adicionar aleatoriariedade aos ciphertexts gerados. Como não temos essa aleatoriedade, conseguimos descobrir a chave. "
   ]
  },
  {
   "cell_type": "markdown",
   "id": "0a5df4df-82f5-4c70-8739-0b619f203abb",
   "metadata": {},
   "source": [
    "### Q3. Predictable Initialization Vectors\n",
    "#### Question - P1\n",
    "IV é determinístico. Um adversário que controla nonces pode provocar correlações entre IVs e blocos cifrados de várias consultas. Essas correlações permitem distinguir qual das duas mensagens do desafio IND-CPA foi cifrada, logo, o esquema não é nonce-IND-CPA seguro.\n",
    "\n",
    "No CBC o primeiro bloco cifrado é $C1 = E_k(M1 \\oplus IV)$. Se o adversário, conseguir:\n",
    "1. Pedir a encriptação de $0^b$ com $nonce = n1$ e observar $C1 = E_k(IV1)$ (porque $M1 = 0$),\n",
    "2. Depois pedir um desafio com $nonce = IV1$ e escolher $m0$ de modo que $E_k(m0 \\oplus IV_challenge) = C1$, então, ao ver o ciphertext do desafio, posso testar se o primeiro bloco coincide com o bloco que já tinha observado. Se coincidir, sei qual mensagem foi escolhida. Em suma: por ser $IV = E_k(n)$, consigo forjar inputs que fazem aparecer blocos previamente vistos, logo, isto quebra indistinguibilidade.\n",
    "\n",
    "Conclusão:\n",
    "O esquema é inseguro. Um adversário que escolha nonces pode distingui-lo, logo não satisfaz nonce-IND-CPA."
   ]
  },
  {
   "cell_type": "code",
   "execution_count": 39,
   "id": "e0a88040-c94d-4654-9dd5-1b577d4c0cad",
   "metadata": {
    "vscode": {
     "languageId": "plaintext"
    }
   },
   "outputs": [
    {
     "name": "stdout",
     "output_type": "stream",
     "text": [
      "block size: 4 bytes\n",
      "key (hex): cc200e66\n",
      "m0: 00000000\n",
      "m1: 01000000\n",
      "challenge nonce: 00000000\n",
      "challenge ciphertext: 00010101\n",
      "real b: 1 adversary guess: 0 success: False\n"
     ]
    }
   ],
   "source": [
    "import os, binascii, random\n",
    "\n",
    "def xor(a,b): return bytes(x^y for x,y in zip(a,b))\n",
    "def hexb(b): return binascii.hexlify(b).decode()\n",
    "\n",
    "# esquema: E_k(x) = x XOR k\n",
    "# encriptação CBC de um bloco: IV = E_k(nonce), C1 = E_k(IV XOR M)\n",
    "# com E_k(x)=x^k isso dá C1 = nonce XOR M\n",
    "\n",
    "BLOCK = 4  # bytes (pequeno para demo)\n",
    "key = os.urandom(BLOCK)\n",
    "\n",
    "def encrypt_single_block(nonce, message):\n",
    "    # implementação direta do esquema descrito\n",
    "    # (faz exatamente: C1 = E_k(E_k(nonce) XOR M) mas simplifica para nonce XOR M)\n",
    "    # mostramos a forma explícita para deixar claro:\n",
    "    iv = bytes(x^y for x,y in zip(nonce, key))            # IV = E_k(nonce)\n",
    "    t  = bytes(x^y for x,y in zip(iv, message))          # IV XOR M\n",
    "    c1 = bytes(x^y for x,y in zip(t, key))               # E_k(IV XOR M)\n",
    "    return c1\n",
    "\n",
    "# adversário:\n",
    "m0 = bytes([0]*BLOCK)                       # 0^l\n",
    "m1 = bytes([1] + [0]*(BLOCK-1))             # diferente\n",
    "challenge_nonce = bytes([0]*BLOCK)          # nonce = 0^l (dica)\n",
    "\n",
    "# challenger escolhe b aleatório e retorna ct = Enc(nonce, m_b)\n",
    "b = random.randrange(2)\n",
    "mb = m0 if b==0 else m1\n",
    "ct = encrypt_single_block(challenge_nonce, mb)\n",
    "\n",
    "# adversário simplesmente compara ct com m0/m1 (no caso ct == mb)\n",
    "print(\"block size:\", BLOCK, \"bytes\")\n",
    "print(\"key (hex):\", hexb(key))\n",
    "print(\"m0:\", hexb(m0))\n",
    "print(\"m1:\", hexb(m1))\n",
    "print(\"challenge nonce:\", hexb(challenge_nonce))\n",
    "print(\"challenge ciphertext:\", hexb(ct))\n",
    "# distinguir:\n",
    "if ct == m0:\n",
    "    guess = 0\n",
    "elif ct == m1:\n",
    "    guess = 1\n",
    "else:\n",
    "    guess = random.randrange(2)\n",
    "\n",
    "print(\"real b:\", b, \"adversary guess:\", guess, \"success:\", guess==b)\n"
   ]
  },
  {
   "cell_type": "markdown",
   "id": "046d1b4e-485d-464c-b911-52c11f1ec3ba",
   "metadata": {},
   "source": [
    "### Q4: Padding Attacks\n",
    "\n",
    "#### Question - P1:\n",
    "PKCS#7 especifica que sempre se adiciona padding. Se a mensagem já tem comprimento multiplo de $b$, adiciona-se um bloco inteiro de padding.\n",
    "As razões são:\n",
    "- Remove ambiguidade : Ao decifrar, o receptor olha para o último byte e remove esse número de bytes. Se não fosse sempre adicionado, não haveria forma de distinguir um último byte legítimo igual a 0x01 de um byte de padding.\n",
    "- Simplicidade : A rotina de unpadding é sempre a mesma, ou seja, ler o último byte $v$ e remover $v$ bytes.\n",
    "- Compatibilidade : Muitas implementações assumem padding presente; não adicioná-lo quando o comprimento já é múltiplo introduz inconsistências.\n",
    "\n",
    "#### Question - P2:\n",
    "##### **Baseado no livro Serious Cryptography, página 74**\n",
    "Os ataques de tipo padding oracle registam quais as entradas que têm preenchimento válido e quais não têm, e exploram essa informação para decifrar valores de texto cifrado escolhidos.\n",
    "\n",
    "Considerando que $C1$ e $C2$ são blocos de texto cifrado e que, $C1$ foi cifrado primeiro que $C2$, e supondo que se pretende decifrar o bloco de texto cifrado $C2$. Chamemos $X$ ao valor que procura, ou seja, $D(K, C2)$, e $P2$ ao bloco obtido após a desencriptação em modo CBC. Se escolher um bloco aleatório $C1$ e enviar o texto cifrado de dois blocos $C1 || C2$ ao oracle, a desencriptação só terá sucesso se $C1 \\oplus P2 = X$ terminar com um preenchimento válido — um único byte 01, dois bytes 02, três bytes 03, e assim sucessivamente.\n",
    "\n",
    "Com base nesta observação, os ataques padding oracle sobre encriptação CBC podem decifrar um bloco $C2$ da seguinte forma (os bytes são representados em notação de array: $C1[0]$ é o primeiro byte de C1, $C1[1]$ o segundo, e assim até $C1[15]$, o último):\n",
    "\n",
    "1. Escolha um bloco aleatório $C1$ e altere o seu último byte até que o oracle de preenchimento aceite o texto cifrado como válido. Normalmente, num texto cifrado válido, $C1[15] \\oplus X[15] = 01$, pelo que encontrará $X[15]$ após testar cerca de 128 valores de $C1[15]$.\n",
    "2. Encontre o valor $X[14]$ definindo $C1[15]$ para $X[15] \\oplus 02$ e procurando o valor de $C1[14]$ que produza um preenchimento correcto. Quando o oracle aceitar o texto cifrado como válido, significa que encontrou $C1[14]$ tal que $C1[14] \\oplus X[14] = 02$.\n",
    "3. Repita os passos 1 e 2 para os 16 bytes."
   ]
  },
  {
   "cell_type": "code",
   "execution_count": 7,
   "id": "bb18d63c-6ac1-498d-bd83-c5e9896e69f8",
   "metadata": {},
   "outputs": [],
   "source": [
    "# Nota para estudo:\n",
    "#Contra-medidas para evitar padding attacks:\n",
    "#  - Não devolver mensagens de erro diferentes (ou usar respostas/tempos constantes).\n",
    "#  - Usar autenticação de mensagem (MAC) e verificar integridade antes de fazer unpadding (por exemplo encrypt-then-MAC).\n",
    "#  - Usar modos AEAD (por ex. AES-GCM)."
   ]
  }
 ],
 "metadata": {
  "kernelspec": {
   "display_name": "SageMath 10.4",
   "language": "sage",
   "name": "sagemath"
  },
  "language_info": {
   "codemirror_mode": {
    "name": "ipython",
    "version": 3
   },
   "file_extension": ".py",
   "mimetype": "text/x-python",
   "name": "python",
   "nbconvert_exporter": "python",
   "pygments_lexer": "ipython3",
   "version": "3.12.3"
  }
 },
 "nbformat": 4,
 "nbformat_minor": 5
}
