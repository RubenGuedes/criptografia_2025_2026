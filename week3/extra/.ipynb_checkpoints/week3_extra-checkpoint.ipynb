{
 "cells": [
  {
   "cell_type": "markdown",
   "id": "441cf985-dab8-4597-bbab-a5b0fc70b0c6",
   "metadata": {},
   "source": [
    "### Q1. Weak Security\n",
    "#### Question P1.\n",
    "Resolvido no ficheiro q1.py\n",
    "\n",
    "#### Question P2.\n",
    "Supondo:\n",
    "- Que o processador tem uma frequência de 2.21 Ghz. O que equivale a 2,21 bilhoẽs de instruções por segundo.\n",
    "    - Logo, podemos aproximar este valor de $\\frac{2^{32}}{2} \\approx$ 2,21 bilhões\n",
    "- 3 horas = 10800 segundos = $2^{4}*3^{2}*5$ segundos\n",
    "\n",
    "Com isto, podemos deduzir que, o número de instruções máximo que o computador vai executar num espaço de 3 horas é:\n",
    "$$\n",
    "NúmeroInstruções \\approx \\frac{2^{32}}{2} * 2^{4}*3^{2}*5 \n",
    "$$\n",
    "$$\n",
    "NúmeroInstruções \\approx 2^{35}*3^{2}*5\n",
    "$$\n",
    "$$\n",
    "NúmeroInstruções \\approx 2^{35}*45\n",
    "$$\n",
    "Sendo que $2^{5} \\leq 45 \\leq 2^{6}$, para facilitar os calculos, vamos aproximar o valor de 45 para $2^{6}$. Logo:\n",
    "$$\n",
    "NúmeroInstruções \\approx 2^{35}*2^{6} \\approx 2^{41}\n",
    "$$\n",
    "No pior dos casos, terá que executar aproximadamente $2^{41}$ instruções, ou seja, a chave terá que ser superior a 41 bits. Sendo que:\n",
    "$$\n",
    "2^{5} \\leq 41 \\leq 2^{6}\n",
    "$$\n",
    "Então o offset tem que ser de 6 bytes para que o atacante demore aproximadamente 3 horas até descobrir a chave."
   ]
  },
  {
   "cell_type": "markdown",
   "id": "72b8e282-6c1b-4361-a6cc-3a76a55ea877",
   "metadata": {},
   "source": [
    "### Q2. Fixed Initialization Vectors\n"
   ]
  },
  {
   "cell_type": "markdown",
   "id": "e0a88040-c94d-4654-9dd5-1b577d4c0cad",
   "metadata": {},
   "source": [
    "### Q2. Predictable Initialization Vectors\n"
   ]
  },
  {
   "cell_type": "markdown",
   "id": "046d1b4e-485d-464c-b911-52c11f1ec3ba",
   "metadata": {},
   "source": [
    "### Q2. Fixed Initialization Vectors\n"
   ]
  }
 ],
 "metadata": {
  "kernelspec": {
   "display_name": "SageMath 10.4",
   "language": "sage",
   "name": "sagemath"
  },
  "language_info": {
   "codemirror_mode": {
    "name": "ipython",
    "version": 3
   },
   "file_extension": ".py",
   "mimetype": "text/x-python",
   "name": "python",
   "nbconvert_exporter": "python",
   "pygments_lexer": "ipython3",
   "version": "3.12.3"
  }
 },
 "nbformat": 4,
 "nbformat_minor": 5
}
