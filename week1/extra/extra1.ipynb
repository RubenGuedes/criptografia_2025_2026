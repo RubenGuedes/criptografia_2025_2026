{
 "cells": [
  {
   "cell_type": "markdown",
   "id": "05977814-4bce-4a54-8100-ed2260bf060a",
   "metadata": {},
   "source": [
    "# Q1: Semantically secure schemes\n",
    "\n",
    "### Q1.\n",
    "Os esquemas $E'$ corretos são 2, 3, 4 e 6, no entanto, os esquemas 2, 3 e 6 só são corretos no caso:\n",
    "- 2: De se usar outra chave para além do $0^{n}$.\n",
    "- 3: Se $n$ for do tamanho de $E(k, m)$ (sem contar com o zero concatenado), este esquema continua a ser correto\n",
    "- 6: Se $n$ for do tamanho de $E(k, m)$ (sem contar com a mensagem concatenada), este esquema continua a ser correto. Este esquema não é seguro porque revela a mensagem original.\n",
    "\n",
    "### Q2.\n",
    "O esquema 100% correto é o esquema 4. Dado que $(E, D)$ são esquemas criptográficos semanticamante seguros, $(E´, D´)$ também o serão.  \n",
    "Neste esquema, temos:\n",
    "- $E'(k, m) = E(k, m) \\oplus 1^{n}$; Após cifrar o conteúdo, faz-se uma operação XOR com $1^{n}$. Isto não revela nada sobre a mensagem origial e mantem o esquema seguro.\n",
    "- $D'(k, c) = D(k,(c \\oplus 1^{n}))$; este esquema é igual a: \n",
    "$$\n",
    "D'(k, c) = D(k,(c \\oplus 1^{n})) = D(k,(E(k, m) \\oplus 1^{n} \\oplus 1^{n})) = D(k, E(k, m))\n",
    "$$\n",
    "\n",
    "Como $D$ é seguro, então $D'$ também o é.\n",
    "\n",
    "### Q3.\n",
    "O esquema correto, mas inseguro é o esquema 2:  \n",
    "$$E'(k, m) = E(0^{n}, m); D'(k, c) = (D(0^{n}, c))$$\n",
    "\n",
    "O atacante pode usar uma mensagem pequena. Com isto, ele poderá deduzir, através de um ataque brute-force, que a chave não muda, é sempre $0^{n}$, independente do valor de $k$.\n",
    "\n",
    "Q3.\n"
   ]
  },
  {
   "cell_type": "markdown",
   "id": "f57c3b92-366d-4a71-b043-6429b203b480",
   "metadata": {},
   "source": [
    "# Q2: Shifting the alphabet\n",
    "\n",
    "Para ser perfeitamente seguro, todo o poder computacional que se usar, para quebrar esta cifra, não é suficiente.\n",
    "Tal não acontece com este esquema. Considerando uma mensagem, $m$, e considerando que conhecemos o modo operandis do esquema, conseguimos deduzir a chave fazendo as operações inversas.  \n",
    "Ou seja, assumindo que a messagem $m$ é 'banana' e o texto cifrado ($c$) é 'ehoucc', podemos ver quantos shift foram feitos por casa letra, deduzindo assim a chave."
   ]
  },
  {
   "cell_type": "markdown",
   "id": "fa57af28-9667-4e3f-8657-78bfbd31e300",
   "metadata": {},
   "source": [
    "# Q3: Secret Sharing\n",
    "\n",
    "### P1.\n",
    "Exceto a opção 4, todas as restantes são válidas. Como a opção 4 não tem a mensagem $m_{6}$, não seria possivel descobrir $m$.\n",
    "\n",
    "### P2.\n",
    "Uma proposta seria:\n",
    "- $P1(m_{1}, m_{2}, m_{3}, m_{4})$\n",
    "- $P2(m_{5}, m_{6}, m_{1}, m_{2})$\n",
    "- $P3(m_{3}, m_{4}, m_{5}, m_{6})$\n",
    "\n",
    "### P3.\n",
    "Sendo $x$ = 001, as submensagens podem ser as seguintes:\n",
    "- $x_{0}$ = 010\n",
    "- $x_{1}$ = 110\n",
    "- $x_{2}$ = 101\n",
    "\n",
    "Sendo $y$ = 010, as submensagens podem ser as seguintes:\n",
    "- $y_{0}$ = 101\n",
    "- $y_{1}$ = 001\n",
    "- $y_{2}$ = 110\n",
    "\n",
    "Se fizermos $x \\oplus y$ temos 011.\n",
    "Se fizermos:\n",
    "- $x_{0} \\oplus y_{0}$ = 111\n",
    "- $x_{1} \\oplus y_{1}$ = 111\n",
    "- $x_{2} \\oplus y_{2}$ = 011\n",
    "\n",
    "Vamos ter uma operação XOR entre 2 submensagens, $x_{i}$ e $y_{i}$, que vai ser igual à operação XOR entre $x$ e $y$.  \n",
    "Neste caso:  \n",
    "$$x \\oplus y = x_{2} \\oplus y_{2} = 011$$"
   ]
  }
 ],
 "metadata": {
  "kernelspec": {
   "display_name": "SageMath 10.4",
   "language": "sage",
   "name": "sagemath"
  },
  "language_info": {
   "codemirror_mode": {
    "name": "ipython",
    "version": 3
   },
   "file_extension": ".py",
   "mimetype": "text/x-python",
   "name": "python",
   "nbconvert_exporter": "python",
   "pygments_lexer": "ipython3",
   "version": "3.12.3"
  }
 },
 "nbformat": 4,
 "nbformat_minor": 5
}
