{
 "cells": [
  {
   "cell_type": "markdown",
   "id": "d0c3172e",
   "metadata": {},
   "source": [
    "# Cryptography (CC4017) -- Week 1"
   ]
  },
  {
   "cell_type": "markdown",
   "id": "3e595058",
   "metadata": {},
   "source": [
    "# Monoalphabetic substitution cipher\n",
    "\n",
    "The simpliest of all ciphers is the **monoalphabetic substitution cipher**. Here, each character of the message (ciphertext) is substituted by another character by a bijective function over the alphabet: a permutation. The key of the cipher is the permutation used. For example, we could use the following table to encode:\n",
    "\n",
    "|A|B|C|D|E|F|G|H|I|J|K|L|M|N|O|P|Q|R|S|T|U|V|W|X|Y|Z|\n",
    "|-|-|-|-|-|-|-|-|-|-|-|-|-|-|-|-|-|-|-|-|-|-|-|-|-|-|\n",
    "|N|O|T|V|E|R|Y|D|I|F|C|U|L|M|P|Q|S|W|X|Z|A|B|G|H|J|K|\n",
    "\n",
    "Here to generate the key (the permutation), we used a common technique to make the key easyer to remember: we start with a phrase **NOT VERY DIFFICULT**. Remove any letter repetitions: **NOTVERYDIFCUL**, and finally add all the other unused characters by their \"natural\" order staring where our (transformed) phrase stopped: **NOTVERYDIFCULMPQSWXZABGHJK**.\n",
    "\n",
    "We define an additional function **encode** that transforms any upper character in its \"natural\" order ($A\\to 0, B\\to 1,\\ldots, Z\\to 25$)."
   ]
  },
  {
   "cell_type": "code",
   "execution_count": null,
   "id": "b54b8209",
   "metadata": {},
   "outputs": [],
   "source": [
    "import string\n",
    "\n",
    "key = \"NOTVERYDIFCULMPQSWXZABGHJK\"\n",
    "\n",
    "def encodeOne(c):\n",
    "    assert c in string.ascii_uppercase\n",
    "    return ord(c)-ord('A')\n",
    "\n",
    "def encode(w):\n",
    "    return [encodeOne(i) for i in list(w)]\n",
    "\n",
    "def decodeOne(n):\n",
    "    assert 0 <= n < 26\n",
    "    return chr(ord('A') + n)\n",
    "\n",
    "def decode(w):\n",
    "    return \"\".join([decodeOne(n) for n in w])\n",
    "\n",
    "def cipherMonoOne(c, key):\n",
    "    assert c in string.ascii_uppercase\n",
    "    return key[ord(c) - ord('A')]\n",
    "\n",
    "def cipherMono(w, key):\n",
    "    return \"\".join([cipherMonoOne(c, key) for c in w])\n",
    "\n",
    "def back_from_number(lst):\n",
    "    orda = ord('a')\n",
    "    foo = [chr(orda+c-1) for c in lst]\n",
    "    return \"\".join(foo)"
   ]
  },
  {
   "cell_type": "markdown",
   "id": "5a72b162",
   "metadata": {},
   "source": [
    "With a (not very original) message like\n",
    "\"A long time ago in a galaxy far, far away...\n",
    "\n",
    "It is a period of civil war. Rebel spaceships, striking from a hidden base, have won their first victory against the evil Galactic Empire.\n",
    "\n",
    "During the battle, Rebel spies managed to steal secret plans to the Empire's ultimate weapon, the DEATH STAR, and space station with enough power to destroy an entire planet.\n",
    "\n",
    "Pursued by the Empire's sinister agents, Princess Leia races home aboard her starship, custodian of the stolen plans that can save her people and restore freedom to the galaxy\"\n",
    "\n",
    "After removing diacritics, punctuation and spaces we get:"
   ]
  },
  {
   "cell_type": "code",
   "execution_count": null,
   "id": "d55eba76",
   "metadata": {},
   "outputs": [],
   "source": [
    "msg = \"ALONGTIMEAGOINAGALAXYFARFARAWAYITISAPERIODOFCIVILWARREBELSPACESHIPSSTRIKINGFROMAHIDDENBASEHAVEWONTHEIRFIRSTVICTORYAGAINSTTHEEVILGALACTICEMPIREDURINGTHEBATTLEREBELSPIESMANAGEDTOSTEALSECRETPLANSTOTHEEMPIRESULTIMATEWEAPONTHEDEATHSTARANDSPACESTATIONWITHENOUGHPOWERTODESTROYANENTIREPLANETPURSUEDBYTHEEMPIRESSINISTERAGENTSPRINCESSLEIARACESHOMEABOARDHERSTARSHIPCUSTODIANOFTHESTOLENPLANSTHATCANSAVEHERPEOPLEANDRESTOREFREEDOMTOTHEGALAXY\""
   ]
  },
  {
   "cell_type": "markdown",
   "id": "2ae60a00",
   "metadata": {},
   "source": [
    "Now, we can cipher the text using the key and the *sanitised* text message"
   ]
  },
  {
   "cell_type": "code",
   "execution_count": null,
   "id": "5cb86383",
   "metadata": {},
   "outputs": [],
   "source": [
    "ctext = cipherMono(msg, key)\n",
    "print(ctext)"
   ]
  },
  {
   "cell_type": "markdown",
   "id": "6b5d20a8",
   "metadata": {},
   "source": [
    "To decode, it is enough to use the table in reverse order, *i.e.* substitute each character with the one that is in the upper row. This corresponds to use the inverse permutation, that can be obtained with the following code."
   ]
  },
  {
   "cell_type": "code",
   "execution_count": null,
   "id": "4054c463",
   "metadata": {},
   "outputs": [],
   "source": [
    "def inverseKey(key):\n",
    "    nk = [0 for _ in range(26)]\n",
    "    l = 0\n",
    "    for i in key:\n",
    "        nk[encodeOne(i)] = chr(ord('A')+l)\n",
    "        l += 1\n",
    "    return \"\".join(nk)"
   ]
  },
  {
   "cell_type": "markdown",
   "id": "c4cc3bee",
   "metadata": {},
   "source": [
    "Just to check that everything works..."
   ]
  },
  {
   "cell_type": "code",
   "execution_count": null,
   "id": "05b981f0",
   "metadata": {},
   "outputs": [],
   "source": [
    "nkey = inverseKey(key)\n",
    "ntext = cipherMono(ctext,nkey)\n",
    "assert ntext == msg"
   ]
  },
  {
   "cell_type": "markdown",
   "id": "c16a6f50",
   "metadata": {},
   "source": [
    "### How can we \"crack\" this?"
   ]
  },
  {
   "cell_type": "markdown",
   "id": "93397f8c",
   "metadata": {},
   "source": [
    "We can begin by counting the number of occurences of each character in the ciphertext. The following function collects that information swiftly, returning a list of the ratio of occurences of each character, in alphabetic order."
   ]
  },
  {
   "cell_type": "code",
   "execution_count": null,
   "id": "b0cfdd6c",
   "metadata": {},
   "outputs": [],
   "source": [
    "def stats(text):\n",
    "    assert len([True for c in text if c in string.ascii_uppercase]) == len(text)\n",
    "    st = [0 for i in range(26)]\n",
    "    for c in text:\n",
    "        st[encodeOne(c)] += 1\n",
    "    l = sum(st)\n",
    "    return [x for x in map(lambda x: float(x/l),st)]\n"
   ]
  },
  {
   "cell_type": "markdown",
   "id": "3083f542",
   "metadata": {},
   "source": [
    "Because an image is (sometimes) easier to read than just a list of numbers, we will just define some usefull functions and some important data... "
   ]
  },
  {
   "cell_type": "code",
   "execution_count": null,
   "id": "d6e0a56a",
   "metadata": {},
   "outputs": [],
   "source": [
    "import matplotlib.pyplot as plt\n",
    "\n",
    "estats = [0.0827031042166906, 0.0162276080084299, 0.0304341066523865, 0.0375304461987597, 0.122672701204028, 0.0212717442001071, 0.0213201126293424, 0.0502686175266458, 0.0748777833439859, 0.00192437250600287, 0.00767676069719636, 0.0423189206930505, 0.0274732678056280, 0.0709564856881273, 0.0748432344659607, 0.0196341273817133, 0.00130594758935204, 0.0634870182590820, 0.0662509285010969, 0.0866554958627719, 0.0301577156281850, 0.0101919190174299, 0.0179861458999119, 0.00233550415450258, 0.0183247249045587, 0.00117120696505381]\n",
    "\n",
    "def bar(sts):\n",
    "    _ = plt.figure(figsize = (26, 10))\n",
    "    _ = plt.bar([c for c in string.ascii_uppercase], sts, color ='Blue', width = 0.7)"
   ]
  },
  {
   "cell_type": "markdown",
   "id": "2f23a799",
   "metadata": {},
   "source": [
    "The distribution of letters of the ciphertext is as follows:"
   ]
  },
  {
   "cell_type": "code",
   "execution_count": null,
   "id": "795ab368",
   "metadata": {},
   "outputs": [],
   "source": [
    "bar(stats(ctext))"
   ]
  },
  {
   "cell_type": "markdown",
   "id": "d2564853",
   "metadata": {},
   "source": [
    "Which is quite different from the same picture for the original message (plaintext):"
   ]
  },
  {
   "cell_type": "code",
   "execution_count": null,
   "id": "273fea43",
   "metadata": {},
   "outputs": [],
   "source": [
    "bar(stats(msg))"
   ]
  },
  {
   "cell_type": "markdown",
   "id": "e735b755",
   "metadata": {},
   "source": [
    "ach letter of the plaintext was always ciphered the same way. Thus the bars are just permutated. Finding the permutation is not that difficult, having these two statistics. However, to produce it we need to have access to the plaintext (and that is cheating!!).\n",
    "\n",
    "But we do have the statistical distribution of an average english text. And we can see that *(if the message is not too short)* the picture is not that different:  "
   ]
  },
  {
   "cell_type": "code",
   "execution_count": null,
   "id": "fefb5f7e",
   "metadata": {},
   "outputs": [],
   "source": [
    "bar(estats)"
   ]
  },
  {
   "cell_type": "markdown",
   "id": "8189e076",
   "metadata": {},
   "source": [
    "Thus we can use this *average distribution* to attempt an attack against a **monoalphabetic substitution chipher**.\n",
    "\n",
    "But we need to evaluate the quality of two possible solutions for the same text (without the need to use a human to check if the translation works or not).\n",
    "\n",
    "Let $s_i$ be the average probabilities of the character $i$ occur in a text, and $p_i$ the ratio of the observable occurence of the character $i$ in a tentative translation over the total size of the text.\n",
    "\n",
    "Then we can try to mesure the quality by \n",
    "\n",
    "$$D =\\sum_{0\\leq i\\leq 25}(s_i-p_i)^2.$$\n",
    "\n",
    "The correct translation should have a very small value of $D$ compared with the one obtained from a incorrect translation."
   ]
  },
  {
   "cell_type": "code",
   "execution_count": null,
   "id": "c5a3722f",
   "metadata": {},
   "outputs": [],
   "source": [
    "def D(text, ref):\n",
    "    p = stats(text)\n",
    "    return sum([(ref[i]-p[i])**2 for i in range(26)])"
   ]
  },
  {
   "cell_type": "markdown",
   "id": "d39d3184",
   "metadata": {},
   "source": [
    "If we try with the correct translation, *i.e.* the original message, we have"
   ]
  },
  {
   "cell_type": "code",
   "execution_count": null,
   "id": "48c2cf01",
   "metadata": {},
   "outputs": [],
   "source": [
    "correctD = D(msg,estats)\n",
    "print(correctD)"
   ]
  },
  {
   "cell_type": "markdown",
   "id": "ec463476",
   "metadata": {},
   "source": [
    "While if we try with a **very** incorrect translation (the ciphertext), we have"
   ]
  },
  {
   "cell_type": "code",
   "execution_count": null,
   "id": "de1a9f5f",
   "metadata": {},
   "outputs": [],
   "source": [
    "incorrectD = D(ctext, estats)\n",
    "print(incorrectD)"
   ]
  },
  {
   "cell_type": "markdown",
   "id": "a8181f9b",
   "metadata": {},
   "source": [
    "This is **much** larger than the one for the correct translation"
   ]
  },
  {
   "cell_type": "markdown",
   "id": "b43cfa21",
   "metadata": {},
   "source": [
    "Let us generate random translations and compare the results using $D$. Because the keys generated are random, it is equivalent to use them directly or its inverses."
   ]
  },
  {
   "cell_type": "code",
   "execution_count": null,
   "id": "45fb8259",
   "metadata": {},
   "outputs": [],
   "source": [
    "import random\n",
    "\n",
    "def genRndAlph():\n",
    "    \"\"\" Generates a random key (alphabet-lenghted\"\"\"\n",
    "    pool = string.ascii_uppercase\n",
    "    alpha = \"\"\n",
    "    while len(pool):\n",
    "        r = random.randint(0, len(pool)-1)\n",
    "        alpha += pool[r]\n",
    "        pool = pool[:r]+pool[(r+1):]\n",
    "    return alpha\n",
    "\n",
    "l = list()\n",
    "for i in range(100):\n",
    "    k = genRndAlph()\n",
    "    t = cipherMono(ctext, k)\n",
    "    l.append(D(t,estats))\n",
    "_ = plt.figure(figsize = (26, 10))\n",
    "_ = plt.bar([x for x in range(100)],l, color ='Blue')"
   ]
  },
  {
   "cell_type": "markdown",
   "id": "22b6c7e3-32dc-4a90-94d9-e2b763aa0c7a",
   "metadata": {},
   "source": [
    "Altough the values vary a lot they a re considerable above the reference value for the correct answer ($\\approx 0.002$)"
   ]
  },
  {
   "cell_type": "markdown",
   "id": "e722be79",
   "metadata": {},
   "source": [
    "What is the difference if we change just one letter from the correct key? Let us swap the $M$ and $N$."
   ]
  },
  {
   "cell_type": "code",
   "execution_count": null,
   "id": "fe5d525e",
   "metadata": {},
   "outputs": [],
   "source": [
    "nkey = 'MOTVERYDIFCULNPQSWXZABGHJK'\n",
    "ikey = inverseKey(nkey)\n",
    "ntext = cipherMono(ctext, ikey)\n",
    "print(D(ntext, estats))"
   ]
  },
  {
   "cell_type": "markdown",
   "id": "94d7dc97",
   "metadata": {},
   "source": [
    "It is not as good as the correct one, but not that bad.\n",
    "\n",
    "What happens if we start with a random key and we correct one or two characters? Let us correct the positions of $O$ and $N$..."
   ]
  },
  {
   "cell_type": "code",
   "execution_count": null,
   "id": "32fef380",
   "metadata": {},
   "outputs": [],
   "source": [
    "key1 = 'ZPQWSUMAETOLNXHYKCGDVIFRBJ'\n",
    "ikey1 = inverseKey(key1)\n",
    "print(ikey1)"
   ]
  },
  {
   "cell_type": "code",
   "execution_count": null,
   "id": "fcb3928e",
   "metadata": {},
   "outputs": [],
   "source": [
    "ikey2 = 'NORTIWSYVZQLGMKBCXEJFUDHPA'\n",
    "key2 = inverseKey(ikey2)\n",
    "text1 = cipherMono(ctext, key1)\n",
    "text2 = cipherMono(ctext, key2)\n",
    "print(D(text1,estats))\n",
    "print(D(text2,estats))"
   ]
  },
  {
   "cell_type": "markdown",
   "id": "f1073f3b",
   "metadata": {},
   "source": [
    "It is not great but the mesure has improved. Thus we can try this to implement an automatic crack of a monoalphabetic substitution message for which we do not know the key."
   ]
  },
  {
   "cell_type": "markdown",
   "id": "f51cccc9-8f4e-45d4-8e8a-fe9fb61d558f",
   "metadata": {},
   "source": [
    "# Attention\n",
    "\n",
    "### For the challenges that follow you need to set the folowing variable to be the number of your group"
   ]
  },
  {
   "cell_type": "code",
   "execution_count": null,
   "id": "54ff41f6-03c6-4ca6-b75b-41c05efce630",
   "metadata": {},
   "outputs": [],
   "source": [
    "GroupNumber = 1\n",
    "fname = \"work\"+str(GroupNumber)\n",
    "import importlib\n",
    "work = importlib.import_module(fname, package=None)"
   ]
  },
  {
   "cell_type": "markdown",
   "id": "7a52943f",
   "metadata": {},
   "source": [
    "## Chalenge 1\n",
    "\n",
    "Try to crack the following message. Assume that it was written in english, and that was enciphered using a monoalphabetic substitution cipher."
   ]
  },
  {
   "cell_type": "code",
   "execution_count": null,
   "id": "86a03a6b",
   "metadata": {},
   "outputs": [],
   "source": [
    "ctext = back_from_number(work.msg1)\n",
    "print(ctext)"
   ]
  },
  {
   "cell_type": "markdown",
   "id": "1830e0da",
   "metadata": {},
   "source": [
    "# The Vigenère cipher\n",
    "\n",
    "The \"Vigenère cipher\" (1) is a periodic polyalphabetic substitution cipher. This means that, although it is a substitution cipher, the performed substitution is not the same along all the text.\n",
    "\n",
    "To simplify, let us suppose that our input alphabet contains only the upper case letters of the western alphabet, and that it is coded numerically as follows: 𝐴=0,𝐵=1,…𝑍=25. \n",
    "\n",
    "The _key_ of criptogram is, for this cipher, a word, for example \"SECRET\". This key, if coded in the same manner described before, has the value [18, 4, 2, 17, 4, 19]\n",
    "\n",
    "(1) This is the usual name given to this cipher although it is not the cipher proposer by Vigenère. On his book he gives this cipher as an example of a weak cipher for which he proposes a much more interesting alternative. Not to add any further confusion, we will call to commonly referred \"Vigenère cipher\" **classical Vigenère**, and we will add sobe additional adjective if we want to refer to any other variation (namelly the one introduced by Vigenère)."
   ]
  },
  {
   "cell_type": "code",
   "execution_count": null,
   "id": "8021cd9b",
   "metadata": {},
   "outputs": [],
   "source": [
    "key = encode(\"SECRET\")\n",
    "print(key)"
   ]
  },
  {
   "cell_type": "markdown",
   "id": "cba784d6",
   "metadata": {},
   "source": [
    "The classical way to define the **classical Vigenère** cipher is using the following table\n",
    "\n",
    "|   | A   | B   | C   | D   | E   | F   | G   | H   | I   | J   | K   | L   | M   | N   | O   | P   | Q   | R   | S   | T   | U   | V   | W   | X   | Y   | Z   |\n",
    "| --- | --- | --- | --- | --- | --- | --- | --- | --- | --- | --- | --- | --- | --- | --- | --- | --- | --- | --- | --- | --- | --- | --- | --- | --- | --- | --- |\n",
    "| **A** | A   | B   | C   | D   | E   | F   | G   | H   | I   | J   | K   | L   | M   | N   | O   | P   | Q   | R   | S   | T   | U   | V   | W   | X   | Y   | Z   |\n",
    "| **B** | B   | C   | D   | E   | F   | G   | H   | I   | J   | K   | L   | M   | N   | O   | P   | Q   | R   | S   | T   | U   | V   | W   | X   | Y   | Z   | A   |\n",
    "| **C** | C   | D   | E   | F   | G   | H   | I   | J   | K   | L   | M   | N   | O   | P   | Q   | R   | S   | T   | U   | V   | W   | X   | Y   | Z   | A   |B   |\n",
    "| **D**  | D   | E   | F   | G   | H   | I   | J   | K   | L   | M   | N   | O   | P   | Q   | R   | S   | T   | U   | V   | W   | X   | Y   | Z   | A   |B   | C   \n",
    "| **E** | E   | F   | G   | H   | I   | J   | K   | L   | M   | N   | O   | P   | Q   | R   | S   | T   | U   | V   | W   | X   | Y   | Z   | A   | B   | C   | D   \n",
    "| **F** | F   | G   | H   | I   | J   | K   | L   | M   | N   | O   | P   | Q   | R   | S   | T   | U   | V   | W   | X   | Y   | Z   | A   |B   | C   | D   | E   | \n",
    "| **G** | G   | H   | I   | J   | K   | L   | M   | N   | O   | P   | Q   | R   | S   | T   | U   | V   | W   | X   | Y   | Z   | A   | B   | C   | D   | E   | F   \n",
    "| **H** | H   | I   | J   | K   | L   | M   | N   | O   | P   | Q   | R   | S   | T   | U   | V   | W   | X   | Y   | Z   | A   | B   | C   | D   | E   | F   | G   |\n",
    "| **I** | I   | J   | K   | L   | M   | N   | O   | P   | Q   | R   | S   | T   | U   | V   | W   | X   | Y   | Z   | A   | B   | C   | D   | E   | F   | G   | H   |\n",
    "| **J** | J   | K   | L   | M   | N   | O   | P   | Q   | R   | S   | T   | U   | V   | W   | X   | Y   | Z   | A   |B   | C   | D   | E   | F   | G   | H   | I   | \n",
    "| **K** | K   |  L   | M   | N   | O   | P   | Q   | R   | S   | T   | U   | V   | W   | X   | Y   | Z   | A   |B   | C   | D   | E   | F   | G   | H   | I   | J   |\n",
    "| **L** | L   | M   | N   | O   | P   | Q   | R   | S   | T   | U   | V   | W   | X   | Y   | Z   | A   | B   | C   | D   | E   | F   | G   | H   | I   | J   | K   |\n",
    "| **M** |  M   | N   | O   | P   | Q   | R   | S   | T   | U   | V   | W   | X   | Y   | Z   | A   |B   | C   | D   | E   | F   | G   | H   | I   | J   | K   | L   |\n",
    "| **N** | N   | O   | P   | Q   | R   | S   | T   | U   | V   | W   | X   | Y   | Z   | A   | B   | C   | D   | E   | F   | G   | H   | I   | J   | K   | L   | M   |\n",
    "| **O** | O   | P   | Q   | R   | S   | T   | U   | V   | W   | X   | Y   | Z   | A   | B   | C   | D   | E   | F   | G   | H   | I   | J   | K   | L   | M   | N   |\n",
    "| **P** | P   | Q   | R   | S   | T   | U   | V   | W   | X   | Y   | Z   | A   | B   | C   | D   | E   | F   | G   | H   | I   | J   | K   | L   | M   | N   | O   |\n",
    "| **Q** | Q   | R   | S   | T   | U   | V   | W   | X   | Y   | Z   | A   | B   | C   | D   | E   | F   | G   | H   | I   | J   | K   | L   | M   | N   | O   | P   |\n",
    "| **R** | R   | S   | T   | U   | V   | W   | X   | Y   | Z   | A   | B   | C   | D   | E   | F   | G   | H   | I   | J   | K   | L   | M   | N   | O   | P   | Q   |\n",
    "| **S** |  S   | T   | U   | V   | W   | X   | Y   | Z   | A   |B   | C   | D   | E   | F   | G   | H   | I   | J   | K   | L   | M   | N   | O   | P   | Q   | R   |\n",
    "| **T** |T   | U   | V   | W   | X   | Y   | Z   | A   | B   | C   | D   | E   | F   | G   | H   | I   | J   | K   | L   | M   | N   | O   | P   | Q   | R   | S   | \n",
    "| **U** | U   | V   | W   | X   | Y   | Z   | A   | B   | C   | D   | E   | F   | G   | H   | I   | J   | K   | L   | M   | N   | O   | P   | Q   | R   | S   | T   |\n",
    "| **V** | V   | W   | X   | Y   | Z   | A   | B   | C   | D   | E   | F   | G   | H   | I   | J   | K   | L   | M   | N   | O   | P   | Q   | R   | S   | T   | U   |\n",
    "| **W** | W   | X   | Y   | Z   | A   | B   | C   | D   | E   | F   | G   | H   | I   | J   | K   | L   | M   | N   | O   | P   | Q   | R   | S   | T   | U   | V   |\n",
    "| **X** | X   | Y   | Z   | A   | B   | C   | D   | E   | F   | G   | H   | I   | J   | K   | L   | M   | N   | O   | P   | Q   | R   | S   | T   | U   | V   | W   |\n",
    "| **Y** | Y   | Z   | A   | B   | C   | D   | E   | F   | G   | H   | I   | J   | K   | L   | M   | N   | O   | P   | Q   | R   | S   | T   |U   | V   | W   | X   | \n",
    "| **Z** | Z   | A   | B   | C   | D   | E   | F   | G   | H   | I   | J   | K   | L   | M   | N   | O   | P   | Q   | R   | S   | T   | U   | V   | W   | X   | Y   |\n",
    "\n",
    "\n",
    "This is what is commonly called a *tabula recta*.\n",
    "\n",
    "To encipher the text \"Tomorrow I will not come to the classes because is Saturday.\" with our key (\"SECRET\"), we proceed as follows:\n",
    "1. Convert the plaintext (our message) to uppercase removing any diacritics and punctuation. Thus, the message becomes \"TOMORROWIWILLNOTCOMETOTHECLASSESBECAUSEISSATURDAY\".\n",
    "\n",
    "2. Then we inscribe over the message the key, repeating it as necessary\":\n",
    "\n",
    "|S|E|C|R|E|T|S|E|C|R|E|T|S|E|C|R|E|T|S|E|C|R|E|T|S|E|C|R|E|T|S|E|C|R|E|T|S|E|C|R|E|T|S|E|C|R|E|T|S|\n",
    "| --- | --- | --- | --- | --- | --- | --- | --- | --- | --- | --- | --- | --- | --- | --- | --- | --- | --- | --- | --- | --- | --- | --- | --- | --- | --- | --- | --- | --- | --- | --- | --- | --- | --- | --- | --- | --- | --- | --- | --- | --- | --- | --- | --- | --- | --- | --- | --- | --- |\n",
    "| T   | O   | M   | O   | R   | R   | O   | W   | I   | W   | I   | L   | L   | N   | O   | T   | C   | O   | M   | E   | T   | O   | T   | H   | E   | C   | L   | A   | S   | S   | E   | S   | B   | E   | C   | A   | U   | S   | E   | I   | S   | S   | A   | T   | U   | R   | D   | A   | Y   |\n",
    "\n",
    "3. Now we substitute each letter X of the message with a corresponding key letter Y, by the one in the column staring with X and the line starting with Y.\n",
    "\n",
    "For example, the begining of the message would become: \"LSOF...\"\n",
    "\n",
    "\n",
    "But because we are using a numerical encoding this becomes much simpler.\n",
    "\n",
    "Let $T(i)$ represent the numerical code of the $i$th letter of the message, $K(j)$ the numerical code of the key and $C(i)$ represents the corresponding numerical code for the resulting enciphered message. Then if $k$ is the length of the key we have\n",
    "\n",
    "$$C(i) = (T(i) + K(i \\mod k))\\mod{25}$$\n",
    "\n",
    "For decoding we will have\n",
    "\n",
    "$$T(i) = (C(i) - K(i \\mod k))\\mod{25}$$\n"
   ]
  },
  {
   "cell_type": "code",
   "execution_count": null,
   "id": "603e784a-6983-47e2-bf9e-0721210b365d",
   "metadata": {},
   "outputs": [],
   "source": [
    "def cipherVigenere(text,key):\n",
    "    etext, ekey = encode(text), encode(key)\n",
    "    szkey = len(ekey)\n",
    "    return \"\".join([decodeOne((etext[i] + ekey[i % szkey]) % 26) for i in range(len(etext))])\n",
    "\n",
    "def decipherVigenere(text,key):\n",
    "    etext, ekey = encode(text), encode(key)\n",
    "    szkey = len(ekey)\n",
    "    return \"\".join([decodeOne((etext[i] - ekey[i % szkey]) % 26) for i in range(len(etext))])\n",
    "    "
   ]
  },
  {
   "cell_type": "code",
   "execution_count": null,
   "id": "88ebdc54",
   "metadata": {},
   "outputs": [],
   "source": [
    "text = \"TOMORROWIWILLNOTCOMETOTHECLASSESBECAUSEISSATURDAY\"\n",
    "key = \"SECRET\"\n",
    "\n",
    "ctext = cipherVigenere(text, key)\n",
    "print(ctext)\n",
    "\n",
    "ntext = decipherVigenere(ctext,key)\n",
    "print(ntext)"
   ]
  },
  {
   "cell_type": "markdown",
   "id": "76e50082-4c6b-47b0-bb43-5ab97d85073b",
   "metadata": {},
   "source": [
    "What happens to the character frequency statistics of a Vigenere criptogram?\n",
    "\n",
    "This is a periodic cipher. Specifically, its period is the size of the key. Let this period be denoted by $P$. Thus, every two characters $kP$ positions apart, for every $k\\in\\mathbb{N}$, are going to be \"enciphered with the same line of the table\", *i.e.* with the same monoalphabetic substitution cipher. Thus, as we saw, will have a statistical distribution that differs from the English average distribution by a permutation of the values (in this case, a circular permutation). "
   ]
  },
  {
   "cell_type": "markdown",
   "id": "f8f25799",
   "metadata": {},
   "source": [
    "### Index of Coincidence (I)\n",
    "\n",
    "To compare two distributions and evaluate how distant they are one from each other, we can use the a similar way to the one used before to evaluate the quality of deciphering of a monoalphabetic cipher. However, instead of using the english average as reference, let us use the uniform distribution, *i.e.* the distribution where all the letters are equiprobable. \n",
    "\n",
    "$$I' = \\sum_{0\\leq i\\leq 25}\\left(\\frac1{26}-p_i\\right)^2.$$\n",
    "\n",
    "But \n",
    "\n",
    "$$I' = \\sum_{0\\leq i\\leq 25}\\left(\\frac1{26}-\\frac{f_i}{t}\\right)^2.=\\sum_{0\\leq i\\leq 25}\\left(\\frac1{26^2}-\\frac2{26}\\frac{f_i}{t}+\\frac{f_i^2}{t^2}\\right)= \\frac1{26}-\\frac2{26}\\sum_{0\\leq i\\leq 25}p_i+\\sum_{0\\leq i\\leq 25}p_i^2=\\sum_{0\\leq i\\leq 25}p_i^2-\\frac1{26}.$$\n",
    "\n",
    "Because this is just \"affected\" by the constant $\\frac1{26}$, it is standard to use, what is normaly called the **Coincidence Index ($I$)** \n",
    "\n",
    "$$I = I'+\\frac1{26}=\\sum_{0\\leq i\\leq 25}p_i^2.$$\n",
    "\n",
    "$I$ measures the \"ammount of information\" that a text has, as it measures the distance from the uniform distribution (the one that is completely random)."
   ]
  },
  {
   "cell_type": "code",
   "execution_count": null,
   "id": "48964abe",
   "metadata": {},
   "outputs": [],
   "source": [
    "def I(st):\n",
    "    return sum([i**2 for i in st])"
   ]
  },
  {
   "cell_type": "markdown",
   "id": "ed8eb617-09a4-418f-9507-5e1dadeb97e1",
   "metadata": {},
   "source": [
    "If we use this mesure on the average statistics for the english language..."
   ]
  },
  {
   "cell_type": "code",
   "execution_count": null,
   "id": "eb4fe81d-75bb-4481-aa9a-d4ab9f76ae5a",
   "metadata": {},
   "outputs": [],
   "source": [
    "print(I(estats))"
   ]
  },
  {
   "cell_type": "markdown",
   "id": "f22a8250-940e-45dc-b564-3f41c874308b",
   "metadata": {},
   "source": [
    "In some sense, it is the highest value of $I$ that we can expect to obtain for a message written in english. Call this value $I_E$\n",
    "\n",
    "What happens if we evaluate the same $I$ on a ciphertext resulting of the application of a Vigenère cipher. If we consider the sets of characters in positions $\\{i\\mid  i\\equiv k\\pmod{P}\\}$ where $P$ is size of the key and $0\\leq k< P$, we know that, for each $k$ all those characters were enciphered by the same mono-alphabetical cipher and thus will have an $I$ very similar to $I_E$, as all these statistics will have the same values, but corresponding to different letters (because of the permutation induced by the mono-alphabetic substitution). Since, for different values of $k$, the permutations are different, it is expectable that some high frequencies, for a value of $k$, may correspond to a lower frequency for a different value of $k$, thus producing an \"smoothing\" effect of the statistics, and thus a lower value of $I$.   \n",
    "\n",
    "Let us try an example. Consider the message used for the mono-alphabetic case and let us compute $I$ for the result of a Vigenère with a key of size $1$ (thus just a mono-alphabetic substitution)."
   ]
  },
  {
   "cell_type": "code",
   "execution_count": null,
   "id": "5317fa0c-16fd-402d-ac34-af3f988ae1a3",
   "metadata": {},
   "outputs": [],
   "source": [
    "key = \"M\"\n",
    "print(I(stats(cipherVigenere(msg,key))))"
   ]
  },
  {
   "cell_type": "markdown",
   "id": "aa06bf36-9410-450d-a63d-ac7868d3da81",
   "metadata": {},
   "source": [
    "It may be surprising that the $I$ value is higher that $I_E$ (**!!!**) This is due to the simple fact that the message is too short to be significant when compared with something that is the average considering many millions of characters. \n",
    "\n",
    "Now let us do the same for a key of size $2$"
   ]
  },
  {
   "cell_type": "code",
   "execution_count": null,
   "id": "560b9628-8d80-438a-b76d-f9193f778c07",
   "metadata": {},
   "outputs": [],
   "source": [
    "key = \"MN\"\n",
    "print(I(stats(cipherVigenere(msg,key))))"
   ]
  },
  {
   "cell_type": "markdown",
   "id": "fe99333d-299c-4d95-9fe9-b37249259edd",
   "metadata": {},
   "source": [
    "The $I$ behaves as expected and the value is lower...\n",
    "\n",
    "Now with a key of size $3$"
   ]
  },
  {
   "cell_type": "code",
   "execution_count": null,
   "id": "18e246f1-92f6-4520-844d-3baa40172327",
   "metadata": {},
   "outputs": [],
   "source": [
    "key = \"MNO\"\n",
    "print(I(stats(cipherVigenere(msg,key))))"
   ]
  },
  {
   "cell_type": "markdown",
   "id": "afff18fe-87a8-4c8b-bebb-017dc31c03e0",
   "metadata": {},
   "source": [
    "Even lower...\n",
    "\n",
    "But what happens if there is a repetition of a character in the key?"
   ]
  },
  {
   "cell_type": "code",
   "execution_count": null,
   "id": "5c333d61-a5bc-498b-9aa4-8269159ddd43",
   "metadata": {},
   "outputs": [],
   "source": [
    "key = \"MNM\"\n",
    "print(I(stats(cipherVigenere(msg,key))))"
   ]
  },
  {
   "cell_type": "markdown",
   "id": "9ac93f65-4d38-4d15-b634-676e68f6cfce",
   "metadata": {},
   "source": [
    "It is very similar to the result obtained with the key \"MN\". The value of $I$ lowers with the **number of different letters** in the key, **not with the size of the key**.\n",
    "\n",
    "#### Number of different letters in the key of a Vigenère\n",
    "\n",
    "It is expected that (for a sufficiently large criptogram) the values of $CI$, for the english language, vary with the number of different letters in the key of a Vigenère cipher according with the following table:\n",
    "\n",
    "| # | $I$ |\n",
    "|---|---|\n",
    "|1|0.0647|\n",
    "|2|0.0520|\n",
    "|3|0.0473|\n",
    "|4|0.0449|\n",
    "|5|0.0435|\n",
    "|6|0.0426|\n",
    "|7|0.0419|\n",
    "|8|0.0414|\n",
    "|9|0.0410|\n",
    "|10|0.0407|\n",
    "||...|\n",
    "|26|$\\frac1{26}$|"
   ]
  },
  {
   "cell_type": "markdown",
   "id": "24b17f08-8ea8-4d74-8297-b7fd0fa1208c",
   "metadata": {
    "slideshow": {
     "slide_type": ""
    },
    "tags": []
   },
   "source": [
    "### How can we try to guess the size of a key for a Vigenère criptogram?\n",
    "\n",
    "#### Babbage's method\n",
    "\n",
    "We can try to find sequences of characters that appear repeated over the ciphertext. Those can occur due two reasons:\n",
    "\n",
    "1. By simple chance, that is, product of different strigs of the plaintext that enciphered, by different \"rows of the table\", happened to result in the same string in the ciphertext.\n",
    "1. Because in the plaintex, at a distance that is a multiple of the period $P$ of the cipher occur different copies of the same string that, because of that particular distance, will be enciphered exactly in the same manner, giving rise of the same strings in the ciphertext.\n",
    "\n",
    "If the size of the repeated patterns is large enough (3 or above) the probability of the second hipothesis is much higher than the first.\n",
    "\n"
   ]
  },
  {
   "cell_type": "markdown",
   "id": "96c86c01-3b99-4ae3-b916-f3e09a517fad",
   "metadata": {},
   "source": [
    "If we consider the following criptogram *\"MYCCWFVATQSBWCQSNZPNKSOGVMEOLQKVHXIMCSGYAQCUSUIWAMMEFTRQYGEQORGWYBFGIHUXWCWRECBQTVRSUZOOHUTNJTMAAHWUUETXHEGJXSFBFNQSNWCIFGVTUHVZVQXNQIYORAEYDRRJHUAUIXQOOIJXRFTRQYGEYQFAPDMTSSJAFHTQXFSRHQGDAQZFHDJTRSBFUESHKXGWBQFRKTQBBBIXQQSPJTFHPHMARHFMPSHJMGWDDIVHWUZBIVXBBKTHFBRTIFECNQZRBIYDRDAQZRHEKDFITTNLHWUQZDXHQFGXDUFHTHMTSCJECFXDORGHBQVOGQORGWEYROQEMERWUDFHPHEUWESGFHDTUNBDVFUSHJAYSCFXNBHJTNHRQZFOKUTRFEUACZTQZQFTIFBFTVDRSSEYGCIXQTOAQJL\"*\n",
    "the result of this repetition of patterns of size 4 is as follows:\n",
    "\n",
    "|pattern| |\n",
    "|-------|-|\n",
    "|FTRQ|105|\n",
    "|TRQY|105|\n",
    "|RQYG|105|\n",
    "|QYGE|105|\n",
    "|QORG|270|\n",
    "|ORGW|270|\n",
    "|DAQZ|90|\n",
    "|FHPH|120|\n",
    "\n",
    "The period size of the cipher needs to divide all these distances (assuming that all the repetitions are due to the reason 2). The common divisor to all these distancies is 15. Thus the possible periods are **3**, **5** or **15**. With very good probability, these are the only periods that we need to try."
   ]
  },
  {
   "cell_type": "markdown",
   "id": "3cd4fbb0-6026-488b-8992-af7fd67355ed",
   "metadata": {},
   "source": [
    "## Chalenge 2\n",
    "\n",
    "Write a python method that, given a Vigenère cryptogram, finds the possible list of periods, using this method. Test it in the following criptogram:"
   ]
  },
  {
   "cell_type": "code",
   "execution_count": null,
   "id": "050329aa-f673-40b0-af5d-80455c51fb07",
   "metadata": {},
   "outputs": [],
   "source": [
    "msg2 = back_from_number(work.msg2)\n",
    "print(msg2)"
   ]
  },
  {
   "cell_type": "markdown",
   "id": "05dd0148-b042-40bd-8cdd-d2b7cda0b301",
   "metadata": {},
   "source": [
    "### (Again) the Index of Coincidence\n",
    "\n",
    "The value $I$ of a given text is $$\\sum_{0\\leq i\\leq 25}p_i^2,$$ where $p_i$ stands for the ratio between the number of occurences of the character $i$ and the total lenght of the text. Thus $p_i$ stands for the probability of, in a given position, occuring the leter $i$. But then, $p_i^2$ is the probability of, in two given postions, having the same character $i$. Thus, $I=\\sum_{0\\leq i\\leq 25}p_i^2$ is the probability of, in two chosen positions, having the same letter, regardless of which letter.\n",
    "\n",
    "This observation makes possible to have another method to obtain the period of a Vigenère ciphertext.\n",
    "\n",
    "Consider two texts $T_1$ and $T_2$, suppose that they are of the same lenght, and write them one over the other.\n",
    "\n",
    "|A|O|N|G|T|I|M|E|A|G|O|I|N|A|G|A|L|A|X|Y|F|A|R|F|A|R|A|W|A|Y|I|T|I|S|A|P|E|R|I|O|D|O|F|C|I|V|I|L|W|A|R|\n",
    "|-|-|-|-|-|-|-|-|-|-|-|-|-|-|-|-|-|-|-|-|-|-|-|-|-|-|-|-|-|-|-|-|-|-|-|-|-|-|-|-|-|-|-|-|-|-|-|-|-|-|-|\n",
    "|L|E|T|I|T|B|E|F|I|F|T|E|E|N|T|H|O|U|S|A|N|D|W|H|Y|C|O|U|L|D|N|T|H|E|Y|E|S|T|E|R|D|A|Y|H|A|V|E|P|R|E|D|\n",
    "|0|0|0|0|1|0|0|0|0|0|0|0|0|0|0|0|0|0|0|0|0|0|0|0|0|0|0|0|0|0|0|1|0|0|0|0|0|0|0|0|1|0|0|0|0|1|0|0|0|0|0|\n",
    "\n",
    "And count the number of columns where the character in the upper row coincides with the one in the lower row (as showned above). In this case the result is $4$ and the total length of the text is $51$, giving a ratio of $\\frac{4}{51}\\approx 0.078$, that is not that different from the value $I_E$. The lack of approximation to $I_E$ is (again) due to the fact that the texts are very small. \n",
    "\n",
    "Let $S(T_1,T_2)$ be this ratio: the number of coincidences over the size of the texts.\n",
    "\n",
    "If $T_2$ is a text in another language or, more generally, a text with a different distribution, the correspondent value of $I$ will be (probably) lower.\n",
    "\n",
    "Now consider an operator $L_i$ that performes a left-shift-cicle of $i$ position on a text and colect the values of $S(T,L_i(T))$ for $i=1,2,\\ldots$, for a Vigenére ciphertext. Whenever $i$ is a multiple of the period of the cipher the value should be maxed. Thus the distance of two peaks should be the value of the period.\n"
   ]
  },
  {
   "cell_type": "code",
   "execution_count": null,
   "id": "2de90bbb-c040-41fe-a644-1823d9d9649c",
   "metadata": {},
   "outputs": [],
   "source": [
    "l = [0.03766617429837518, 0.05465288035450517, 0.03692762186115214, 0.03545051698670606, 0.033973412112259974, 0.07385524372230429, 0.03545051698670606, 0.04579025110782865, 0.03840472673559823, 0.03840472673559823, 0.033973412112259974, 0.06942392909896603, 0.03545051698670606, 0.04579025110782865, 0.04874446085672083, 0.04431314623338257, 0.0310192023633678, 0.0723781388478582, 0.04431314623338257, 0.033973412112259974, 0.04579025110782865, 0.0361890694239291, 0.02880354505169867, 0.06277695716395865, 0.03175775480059084, 0.03323485967503693, 0.03840472673559823, 0.03840472673559823, 0.03471196454948301, 0.0620384047267356, 0.03988183161004431, 0.03692762186115214, 0.04431314623338257, 0.03840472673559823, 0.04431314623338257, 0.07311669128508123, 0.033973412112259974, 0.04283604135893648, 0.04431314623338257, 0.04283604135893648, 0.0361890694239291, 0.05760709010339734, 0.03766617429837518, 0.03545051698670606, 0.03692762186115214, 0.03766617429837518, 0.04357459379615953, 0.0672082717872969, 0.047267355982274745, 0.033973412112259974, 0.05465288035450517, 0.0361890694239291, 0.03175775480059084, 0.07311669128508123, 0.03988183161004431, 0.0361890694239291, 0.04431314623338257, 0.03545051698670606, 0.03840472673559823, 0.061299852289512555, 0.03766617429837518, 0.03545051698670606, 0.03766617429837518, 0.03175775480059084, 0.03249630723781388, 0.0723781388478582, 0.03323485967503693, 0.033973412112259974, 0.04357459379615953, 0.03471196454948301, 0.03175775480059084, 0.055391432791728215, 0.03988183161004431, 0.04579025110782865, 0.04062038404726736, 0.04062038404726736, 0.03988183161004431, 0.061299852289512555, 0.03249630723781388, 0.03766617429837518, 0.04579025110782865, 0.04579025110782865, 0.033973412112259974, 0.06794682422451995, 0.029542097488921712, 0.027326440177252585, 0.03249630723781388, 0.03471196454948301, 0.03545051698670606, 0.07533234859675036, 0.03323485967503693, 0.03545051698670606, 0.04874446085672083, 0.033973412112259974, 0.0361890694239291, 0.0723781388478582, 0.03692762186115214, 0.0361890694239291, 0.03766617429837518, 0.03840472673559823]\n",
    "_ = plt.figure(figsize = (26, 10))\n",
    "_ = plt.bar([x for x in range(1,101)],l, color ='Blue')"
   ]
  },
  {
   "cell_type": "markdown",
   "id": "c4b9b207-bd48-4fb5-9d5b-7cfb1050bb37",
   "metadata": {},
   "source": [
    "This makes us conclude that the period must be 6."
   ]
  },
  {
   "cell_type": "markdown",
   "id": "630a63ee-69e7-4e49-8d8e-e78eb9257b71",
   "metadata": {},
   "source": [
    "## Chalenge 3\n",
    "\n",
    "Crack the following Vigenère criptogram"
   ]
  },
  {
   "cell_type": "code",
   "execution_count": null,
   "id": "0996cf76-7cf3-4b5e-a188-7f4bc3f10185",
   "metadata": {},
   "outputs": [],
   "source": [
    "msg3 = work.msg3\n",
    "print(msg3)"
   ]
  },
  {
   "cell_type": "code",
   "execution_count": null,
   "id": "abc780bc-7a4d-458e-89bf-63a587684213",
   "metadata": {},
   "outputs": [],
   "source": []
  }
 ],
 "metadata": {
  "kernelspec": {
   "display_name": "SageMath 10.4",
   "language": "sage",
   "name": "sagemath-10.4"
  },
  "language_info": {
   "codemirror_mode": {
    "name": "ipython",
    "version": 3
   },
   "file_extension": ".py",
   "mimetype": "text/x-python",
   "name": "python",
   "nbconvert_exporter": "python",
   "pygments_lexer": "ipython3",
   "version": "3.12.4"
  },
  "toc": {
   "base_numbering": 0
  }
 },
 "nbformat": 4,
 "nbformat_minor": 5
}
